{
 "cells": [
  {
   "cell_type": "markdown",
   "metadata": {},
   "source": [
    "### Dictionaries\n",
    "Outline\n",
    "1. Introduction to dictionaries\n",
    "2. Creating dictionaries\n",
    "3. Accessing dictionary elements\n",
    "4. Modifying dictionary elements\n",
    "5. Dictionary methods\n",
    "6. Iterating over dictionaries\n",
    "7. Nested dictionaries\n",
    "8. Dictionary comprehensions\n",
    "9. Practical examples and common erros"
   ]
  },
  {
   "cell_type": "markdown",
   "metadata": {},
   "source": [
    "#### Introduction to dictionaries\n",
    "Dictionaries are unordered collections of items. They store data in key-value pairs. Keys must be unique and immutable (e.g., strings, numbers or tuples), while values can be of any type"
   ]
  },
  {
   "cell_type": "code",
   "execution_count": 1,
   "metadata": {},
   "outputs": [
    {
     "name": "stdout",
     "output_type": "stream",
     "text": [
      "{}\n",
      "<class 'dict'>\n"
     ]
    }
   ],
   "source": [
    "## creating dictionray\n",
    "empty_dict = {}\n",
    "print(empty_dict)\n",
    "print(type(empty_dict))"
   ]
  },
  {
   "cell_type": "code",
   "execution_count": 2,
   "metadata": {},
   "outputs": [
    {
     "name": "stdout",
     "output_type": "stream",
     "text": [
      "{}\n"
     ]
    }
   ],
   "source": [
    "empty_dict = dict()\n",
    "print(empty_dict)"
   ]
  },
  {
   "cell_type": "code",
   "execution_count": 5,
   "metadata": {},
   "outputs": [
    {
     "name": "stdout",
     "output_type": "stream",
     "text": [
      "{'name': 'Abhishek', 'age': 25, 'grade': 24}\n",
      "<class 'dict'>\n"
     ]
    }
   ],
   "source": [
    "## key value pairs\n",
    "student = {\"name\": \"Abhishek\", \"age\": 25, \"grade\":24}\n",
    "print(student)\n",
    "print(type(student))"
   ]
  },
  {
   "cell_type": "code",
   "execution_count": null,
   "metadata": {},
   "outputs": [
    {
     "name": "stdout",
     "output_type": "stream",
     "text": [
      "{'name': 24, 'age': 25}\n"
     ]
    }
   ],
   "source": [
    "## Error wala issue\n",
    "## In dictionary key should be unique\n",
    "student = {\"name\": \"Abhishek\", \"age\": 25, \"name\":24} \n",
    "print(student)\n",
    "## Here name: Abhishek will be replaced by name: 24\n",
    "## Output: {'name': 24, 'age': 25}\n",
    "## Note: Single key is always used"
   ]
  },
  {
   "cell_type": "code",
   "execution_count": 5,
   "metadata": {},
   "outputs": [
    {
     "name": "stdout",
     "output_type": "stream",
     "text": [
      "{'name': 'Abhishek', 'age': 25, 'grade': 24}\n",
      "Abhishek\n",
      "25\n",
      "24\n",
      "Abhishek\n",
      "25\n",
      "24\n",
      "None\n",
      "\n",
      "24\n",
      "Not Available\n"
     ]
    }
   ],
   "source": [
    "## Accessing dictionary elements\n",
    "student = {\"name\": \"Abhishek\", \"age\": 25, \"grade\":24}\n",
    "print(student)\n",
    "print(student[\"name\"])\n",
    "print(student[\"age\"])\n",
    "print(student[\"grade\"])\n",
    "\n",
    "## Accessing dictionary elements using get method\n",
    "print(student.get(\"name\"))\n",
    "print(student.get(\"age\"))\n",
    "print(student.get(\"grade\"))\n",
    "print(student.get(\"marks\")) ## Here the output will be None as marks is not present in dictionary\n",
    "print()\n",
    "print(student.get(\"grade\", \"Not Available\"))\n",
    "print(student.get(\"marks\", \"Not Available\"))"
   ]
  },
  {
   "cell_type": "code",
   "execution_count": 6,
   "metadata": {},
   "outputs": [
    {
     "name": "stdout",
     "output_type": "stream",
     "text": [
      "{'name': 'Abhishek', 'age': 25, 'grade': 24}\n"
     ]
    }
   ],
   "source": [
    "## Modifying dictionary elements\n",
    "## Dictionary is mutable, so we can add, update or delete elements\n",
    "print(student)"
   ]
  },
  {
   "cell_type": "code",
   "execution_count": null,
   "metadata": {},
   "outputs": [
    {
     "name": "stdout",
     "output_type": "stream",
     "text": [
      "{'name': 'Abhishek', 'age': 33, 'grade': 24}\n",
      "{'name': 'Abhishek', 'age': 33, 'grade': 24, 'Address': 'Pune'}\n"
     ]
    }
   ],
   "source": [
    "student[\"age\"]=33 ## Here we have updated the value for the key\n",
    "print(student)\n",
    "student[\"Address\"]=\"Pune\" ## Here we have added a new key and value\n",
    "print(student)"
   ]
  },
  {
   "cell_type": "code",
   "execution_count": 9,
   "metadata": {},
   "outputs": [
    {
     "name": "stdout",
     "output_type": "stream",
     "text": [
      "{'name': 'Abhishek', 'age': 33, 'Address': 'Pune'}\n"
     ]
    }
   ],
   "source": [
    "## Delete elements from dictionary\n",
    "del student[\"grade\"] ## del keyword is used to delete the key value pair\n",
    "print(student)"
   ]
  },
  {
   "cell_type": "code",
   "execution_count": null,
   "metadata": {},
   "outputs": [
    {
     "name": "stdout",
     "output_type": "stream",
     "text": [
      "dict_keys(['name', 'age', 'Address'])\n",
      "dict_values(['Abhishek', 33, 'Pune'])\n",
      "dict_items([('name', 'Abhishek'), ('age', 33), ('Address', 'Pune')])\n"
     ]
    }
   ],
   "source": [
    "## Dictionary methods\n",
    "keys=student.keys() ## get all the keys\n",
    "print(keys)\n",
    "values=student.values() ## get all the values\n",
    "print(values)\n",
    "\n",
    "## Key value pairs in the form of items\n",
    "items=student.items() ## this is kind of a list of tuples\n",
    "print(items)"
   ]
  },
  {
   "cell_type": "code",
   "execution_count": 14,
   "metadata": {},
   "outputs": [
    {
     "name": "stdout",
     "output_type": "stream",
     "text": [
      "{'name': 'Abhishek', 'age': 33, 'Address': 'Pune'}\n",
      "{'name': 'Abhishek', 'age': 33, 'Address': 'Pune'}\n"
     ]
    }
   ],
   "source": [
    "## Shallow copy of dictionary\n",
    "## A shallow copy creates a new object but retains references to the objects contained within the original. It only copies the top-level structure without duplicating nested elements.\n",
    "student_copy=student\n",
    "print(student)\n",
    "print(student_copy)"
   ]
  },
  {
   "cell_type": "code",
   "execution_count": 15,
   "metadata": {},
   "outputs": [
    {
     "name": "stdout",
     "output_type": "stream",
     "text": [
      "{'name': 'Rahul', 'age': 33, 'Address': 'Pune'}\n",
      "{'name': 'Rahul', 'age': 33, 'Address': 'Pune'}\n"
     ]
    }
   ],
   "source": [
    "student[\"name\"]=\"Rahul\"\n",
    "print(student)\n",
    "print(student_copy)"
   ]
  },
  {
   "cell_type": "code",
   "execution_count": null,
   "metadata": {},
   "outputs": [
    {
     "name": "stdout",
     "output_type": "stream",
     "text": [
      "{'name': 'Rahul', 'age': 33, 'Address': 'Pune'}\n",
      "{'name': 'Rahul', 'age': 33, 'Address': 'Pune'}\n"
     ]
    }
   ],
   "source": [
    "## To avoid the above issue we use the copy method\n",
    "student_copy=student.copy() ## shallow copy: Basically it will allocate a different memory (it will take the variable and give the reference to the othere variable  in the memory)\n",
    "print(student)\n",
    "print(student_copy)"
   ]
  },
  {
   "cell_type": "code",
   "execution_count": 18,
   "metadata": {},
   "outputs": [
    {
     "name": "stdout",
     "output_type": "stream",
     "text": [
      "{'name': 'Abhishek', 'age': 33, 'Address': 'Pune'}\n",
      "{'name': 'Rahul', 'age': 33, 'Address': 'Pune'}\n"
     ]
    }
   ],
   "source": [
    "student[\"name\"]=\"Abhishek\"\n",
    "print(student)\n",
    "print(student_copy)"
   ]
  },
  {
   "cell_type": "code",
   "execution_count": 26,
   "metadata": {},
   "outputs": [
    {
     "name": "stdout",
     "output_type": "stream",
     "text": [
      "name\n",
      "age\n",
      "Address\n",
      "\n",
      "Abhishek\n",
      "33\n",
      "Pune\n",
      "\n",
      "('name', 'Abhishek')\n",
      "('age', 33)\n",
      "('Address', 'Pune')\n",
      "\n",
      "name Abhishek\n",
      "age 33\n",
      "Address Pune\n",
      "\n",
      "name:Abhishek\n",
      "age:33\n",
      "Address:Pune\n"
     ]
    }
   ],
   "source": [
    "## Iterating over dictionaries\n",
    "## We can use loops to iterate over dictionaries, keys, values or items\n",
    "\n",
    "## Iterating over keys\n",
    "for keys in student.keys():\n",
    "    print(keys)\n",
    "print()\n",
    "\n",
    "## Iterating over values\n",
    "for values in student.values():\n",
    "    print(values)\n",
    "print()\n",
    "\n",
    "## Iterating over items\n",
    "for items in student.items():\n",
    "    print(items)\n",
    "\n",
    "print()\n",
    "\n",
    "## Iterating over key value pairs\n",
    "for key, value in student.items():\n",
    "    print(key, value)\n",
    "\n",
    "print()\n",
    "\n",
    "## Iterating over key value pairs\n",
    "for key, value in student.items():\n",
    "    print(f\"{key}:{value}\")\n",
    "\n"
   ]
  },
  {
   "cell_type": "code",
   "execution_count": 2,
   "metadata": {},
   "outputs": [
    {
     "name": "stdout",
     "output_type": "stream",
     "text": [
      "{'student1': {'name': 'Krish', 'age': 32}, 'student2': {'name': 'Peter', 'age': 35}}\n"
     ]
    }
   ],
   "source": [
    "## Nested dictionaries: Dictionary inside a dictionary\n",
    "students={\n",
    "    \"student1\":{\"name\":\"Krish\", \"age\":32},\n",
    "    \"student2\":{\"name\":\"Peter\", \"age\":35},\n",
    "}\n",
    "print(students)"
   ]
  },
  {
   "cell_type": "code",
   "execution_count": 3,
   "metadata": {},
   "outputs": [
    {
     "name": "stdout",
     "output_type": "stream",
     "text": [
      "{'name': 'Krish', 'age': 32}\n",
      "Krish\n",
      "32\n"
     ]
    }
   ],
   "source": [
    "## Accessing nested dictionary elements\n",
    "print(students[\"student1\"])\n",
    "print(students[\"student1\"][\"name\"])\n",
    "print(students[\"student1\"][\"age\"])"
   ]
  },
  {
   "cell_type": "code",
   "execution_count": 4,
   "metadata": {},
   "outputs": [
    {
     "name": "stdout",
     "output_type": "stream",
     "text": [
      "('student1', {'name': 'Krish', 'age': 32})\n",
      "('student2', {'name': 'Peter', 'age': 35})\n"
     ]
    }
   ],
   "source": [
    "## Iterating over nested dictionaries\n",
    "for student in students.items():\n",
    "    print(student)"
   ]
  },
  {
   "cell_type": "code",
   "execution_count": 6,
   "metadata": {},
   "outputs": [
    {
     "name": "stdout",
     "output_type": "stream",
     "text": [
      "student1\n",
      "{'name': 'Krish', 'age': 32}\n",
      "student2\n",
      "{'name': 'Peter', 'age': 35}\n",
      "\n",
      "student1\n",
      "name : Krish\n",
      "age : 32\n",
      "student2\n",
      "name : Peter\n",
      "age : 35\n"
     ]
    }
   ],
   "source": [
    "for student_id, student_info in students.items():\n",
    "    print(student_id)\n",
    "    print(student_info)\n",
    "print()\n",
    "for student_id, student_info in students.items():    \n",
    "    print(student_id)\n",
    "    for key in student_info:\n",
    "        print(key, \":\", student_info[key])\n"
   ]
  },
  {
   "cell_type": "code",
   "execution_count": 8,
   "metadata": {},
   "outputs": [
    {
     "name": "stdout",
     "output_type": "stream",
     "text": [
      "student1:{'name': 'Krish', 'age': 32}\n",
      "name:Krish\n",
      "age:32\n",
      "student2:{'name': 'Peter', 'age': 35}\n",
      "name:Peter\n",
      "age:35\n"
     ]
    }
   ],
   "source": [
    "for student_id, student_info in students.items():\n",
    "    print(f\"{student_id}:{student_info}\")\n",
    "    for key, value in student_info.items():\n",
    "        print(f\"{key}:{value}\")"
   ]
  },
  {
   "cell_type": "code",
   "execution_count": 12,
   "metadata": {},
   "outputs": [
    {
     "ename": "SyntaxError",
     "evalue": "invalid syntax (902762116.py, line 7)",
     "output_type": "error",
     "traceback": [
      "\u001b[1;36m  Cell \u001b[1;32mIn[12], line 7\u001b[1;36m\u001b[0m\n\u001b[1;33m    squares=(x:x*x for x in range(6))\u001b[0m\n\u001b[1;37m              ^\u001b[0m\n\u001b[1;31mSyntaxError\u001b[0m\u001b[1;31m:\u001b[0m invalid syntax\n"
     ]
    }
   ],
   "source": [
    "## Dictionary comprehension\n",
    "## Dictionary comprehension is an elegant and concise way to create dictionaries.\n",
    "## Dictionary comprehension is a method for transforming one dictionary into another dictionary.\n",
    "squares={x:x*x for x in range(6)}\n",
    "print(squares)\n",
    "\n",
    "squares=(x:x*x for x in range(6))\n",
    "print(squares)"
   ]
  },
  {
   "cell_type": "code",
   "execution_count": 13,
   "metadata": {},
   "outputs": [
    {
     "name": "stdout",
     "output_type": "stream",
     "text": [
      "{0: 0, 2: 4, 4: 16, 6: 36, 8: 64}\n"
     ]
    }
   ],
   "source": [
    "## conditional dictionary comprehension\n",
    "even_squares={x:x*x for x in range(10) if x%2==0}\n",
    "print(even_squares)"
   ]
  },
  {
   "cell_type": "code",
   "execution_count": 17,
   "metadata": {},
   "outputs": [
    {
     "name": "stdout",
     "output_type": "stream",
     "text": [
      "{1: 1, 2: 2, 3: 3, 4: 4}\n"
     ]
    }
   ],
   "source": [
    "## Practical examples\n",
    "\n",
    "## Use a dictionary to count the frequency of elements in list\n",
    "\n",
    "numbers=[1,2,3,2,3,3,4,4,4,4]\n",
    "frequency={}\n",
    "\n",
    "for number in numbers:\n",
    "    if number in frequency:\n",
    "        frequency[number]+=1\n",
    "    else:\n",
    "        frequency[number]=1\n",
    "print(frequency)\n"
   ]
  },
  {
   "cell_type": "code",
   "execution_count": 20,
   "metadata": {},
   "outputs": [
    {
     "name": "stdout",
     "output_type": "stream",
     "text": [
      "{'a': 1, 'b': 2, 'c': 3, 'd': 4}\n"
     ]
    }
   ],
   "source": [
    "## Merge two dictionaries into one\n",
    "dict1={\"a\":1, \"b\":2}\n",
    "dict2={\"c\":3, \"d\":4}\n",
    "merged_dict={**dict1, **dict2}\n",
    "print(merged_dict)"
   ]
  },
  {
   "cell_type": "code",
   "execution_count": 21,
   "metadata": {},
   "outputs": [
    {
     "name": "stdout",
     "output_type": "stream",
     "text": [
      "{'a': 1, 'b': 3, 'd': 4}\n"
     ]
    }
   ],
   "source": [
    "dict1={\"a\":1, \"b\":2}\n",
    "dict2={\"b\":3, \"d\":4}\n",
    "merged_dict={**dict1, **dict2}\n",
    "print(merged_dict)"
   ]
  },
  {
   "cell_type": "markdown",
   "metadata": {},
   "source": [
    "#### Real-World examples using lists in python\n",
    "Lists are one of the most commonly used data structures in Python, thanks to their versatility and ease of use. Here are several practical examples that illustrate their use in real-world scenarios"
   ]
  },
  {
   "cell_type": "markdown",
   "metadata": {},
   "source": [
    "#### Example 1. Manage A To Do List\n",
    "Create a To Do List to keep track of tracks"
   ]
  },
  {
   "cell_type": "code",
   "execution_count": 24,
   "metadata": {},
   "outputs": [
    {
     "name": "stdout",
     "output_type": "stream",
     "text": [
      "['Buy Groceries', 'Pay Bills', 'Meet Friends']\n",
      "['Buy Groceries', 'Pay Bills', 'Meet Friends', 'Go for a walk', 'Clean the house']\n"
     ]
    }
   ],
   "source": [
    "to_do_list=[\"Buy Groceries\", \"Pay Bills\", \"Meet Friends\"]\n",
    "print(to_do_list)\n",
    "\n",
    "## Adding to task\n",
    "to_do_list.append(\"Go for a walk\")\n",
    "to_do_list.append(\"Clean the house\")\n",
    "print(to_do_list)\n"
   ]
  },
  {
   "cell_type": "code",
   "execution_count": null,
   "metadata": {},
   "outputs": [],
   "source": []
  },
  {
   "cell_type": "code",
   "execution_count": null,
   "metadata": {},
   "outputs": [],
   "source": []
  }
 ],
 "metadata": {
  "kernelspec": {
   "display_name": "Python 3",
   "language": "python",
   "name": "python3"
  },
  "language_info": {
   "codemirror_mode": {
    "name": "ipython",
    "version": 3
   },
   "file_extension": ".py",
   "mimetype": "text/x-python",
   "name": "python",
   "nbconvert_exporter": "python",
   "pygments_lexer": "ipython3",
   "version": "3.13.2"
  }
 },
 "nbformat": 4,
 "nbformat_minor": 2
}
