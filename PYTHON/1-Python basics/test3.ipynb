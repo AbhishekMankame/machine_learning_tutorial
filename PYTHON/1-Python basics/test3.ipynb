{
 "cells": [
  {
   "cell_type": "markdown",
   "metadata": {},
   "source": [
    "### Dictionaries\n",
    "Outline\n",
    "1. Introduction to dictionaries\n",
    "2. Creating dictionaries\n",
    "3. Accessing dictionary elements\n",
    "4. Modifying dictionary elements\n",
    "5. Dictionary methods\n",
    "6. Iterating over dictionaries\n",
    "7. Nested dictionaries\n",
    "8. Dictionary comprehensions\n",
    "9. Practical examples and common erros"
   ]
  },
  {
   "cell_type": "markdown",
   "metadata": {},
   "source": [
    "#### Introduction to dictionaries\n",
    "Dictionaries are unordered collections of items. They store data in key-value pairs. Keys must be unique and immutable (e.g., strings, numbers or tuples), while values can be of any type"
   ]
  },
  {
   "cell_type": "code",
   "execution_count": 1,
   "metadata": {},
   "outputs": [
    {
     "name": "stdout",
     "output_type": "stream",
     "text": [
      "{}\n",
      "<class 'dict'>\n"
     ]
    }
   ],
   "source": [
    "## creating dictionray\n",
    "empty_dict = {}\n",
    "print(empty_dict)\n",
    "print(type(empty_dict))"
   ]
  },
  {
   "cell_type": "code",
   "execution_count": 2,
   "metadata": {},
   "outputs": [
    {
     "name": "stdout",
     "output_type": "stream",
     "text": [
      "{}\n"
     ]
    }
   ],
   "source": [
    "empty_dict = dict()\n",
    "print(empty_dict)"
   ]
  },
  {
   "cell_type": "code",
   "execution_count": 5,
   "metadata": {},
   "outputs": [
    {
     "name": "stdout",
     "output_type": "stream",
     "text": [
      "{'name': 'Abhishek', 'age': 25, 'grade': 24}\n",
      "<class 'dict'>\n"
     ]
    }
   ],
   "source": [
    "## key value pairs\n",
    "student = {\"name\": \"Abhishek\", \"age\": 25, \"grade\":24}\n",
    "print(student)\n",
    "print(type(student))"
   ]
  },
  {
   "cell_type": "code",
   "execution_count": null,
   "metadata": {},
   "outputs": [
    {
     "name": "stdout",
     "output_type": "stream",
     "text": [
      "{'name': 24, 'age': 25}\n"
     ]
    }
   ],
   "source": [
    "## Error wala issue\n",
    "## In dictionary key should be unique\n",
    "student = {\"name\": \"Abhishek\", \"age\": 25, \"name\":24} \n",
    "print(student)\n",
    "## Here name: Abhishek will be replaced by name: 24\n",
    "## Output: {'name': 24, 'age': 25}\n",
    "## Note: Single key is always used"
   ]
  },
  {
   "cell_type": "code",
   "execution_count": 5,
   "metadata": {},
   "outputs": [
    {
     "name": "stdout",
     "output_type": "stream",
     "text": [
      "{'name': 'Abhishek', 'age': 25, 'grade': 24}\n",
      "Abhishek\n",
      "25\n",
      "24\n",
      "Abhishek\n",
      "25\n",
      "24\n",
      "None\n",
      "\n",
      "24\n",
      "Not Available\n"
     ]
    }
   ],
   "source": [
    "## Accessing dictionary elements\n",
    "student = {\"name\": \"Abhishek\", \"age\": 25, \"grade\":24}\n",
    "print(student)\n",
    "print(student[\"name\"])\n",
    "print(student[\"age\"])\n",
    "print(student[\"grade\"])\n",
    "\n",
    "## Accessing dictionary elements using get method\n",
    "print(student.get(\"name\"))\n",
    "print(student.get(\"age\"))\n",
    "print(student.get(\"grade\"))\n",
    "print(student.get(\"marks\")) ## Here the output will be None as marks is not present in dictionary\n",
    "print()\n",
    "print(student.get(\"grade\", \"Not Available\"))\n",
    "print(student.get(\"marks\", \"Not Available\"))"
   ]
  },
  {
   "cell_type": "code",
   "execution_count": 6,
   "metadata": {},
   "outputs": [
    {
     "name": "stdout",
     "output_type": "stream",
     "text": [
      "{'name': 'Abhishek', 'age': 25, 'grade': 24}\n"
     ]
    }
   ],
   "source": [
    "## Modifying dictionary elements\n",
    "## Dictionary is mutable, so we can add, update or delete elements\n",
    "print(student)"
   ]
  },
  {
   "cell_type": "code",
   "execution_count": null,
   "metadata": {},
   "outputs": [
    {
     "name": "stdout",
     "output_type": "stream",
     "text": [
      "{'name': 'Abhishek', 'age': 33, 'grade': 24}\n",
      "{'name': 'Abhishek', 'age': 33, 'grade': 24, 'Address': 'Pune'}\n"
     ]
    }
   ],
   "source": [
    "student[\"age\"]=33 ## Here we have updated the value for the key\n",
    "print(student)\n",
    "student[\"Address\"]=\"Pune\" ## Here we have added a new key and value\n",
    "print(student)"
   ]
  },
  {
   "cell_type": "code",
   "execution_count": 9,
   "metadata": {},
   "outputs": [
    {
     "name": "stdout",
     "output_type": "stream",
     "text": [
      "{'name': 'Abhishek', 'age': 33, 'Address': 'Pune'}\n"
     ]
    }
   ],
   "source": [
    "## Delete elements from dictionary\n",
    "del student[\"grade\"] ## del keyword is used to delete the key value pair\n",
    "print(student)"
   ]
  },
  {
   "cell_type": "code",
   "execution_count": null,
   "metadata": {},
   "outputs": [
    {
     "name": "stdout",
     "output_type": "stream",
     "text": [
      "dict_keys(['name', 'age', 'Address'])\n",
      "dict_values(['Abhishek', 33, 'Pune'])\n",
      "dict_items([('name', 'Abhishek'), ('age', 33), ('Address', 'Pune')])\n"
     ]
    }
   ],
   "source": [
    "## Dictionary methods\n",
    "keys=student.keys() ## get all the keys\n",
    "print(keys)\n",
    "values=student.values() ## get all the values\n",
    "print(values)\n",
    "\n",
    "## Key value pairs in the form of items\n",
    "items=student.items() ## this is kind of a list of tuples\n",
    "print(items)"
   ]
  },
  {
   "cell_type": "code",
   "execution_count": 14,
   "metadata": {},
   "outputs": [
    {
     "name": "stdout",
     "output_type": "stream",
     "text": [
      "{'name': 'Abhishek', 'age': 33, 'Address': 'Pune'}\n",
      "{'name': 'Abhishek', 'age': 33, 'Address': 'Pune'}\n"
     ]
    }
   ],
   "source": [
    "## Shallow copy of dictionary\n",
    "## A shallow copy creates a new object but retains references to the objects contained within the original. It only copies the top-level structure without duplicating nested elements.\n",
    "student_copy=student\n",
    "print(student)\n",
    "print(student_copy)"
   ]
  },
  {
   "cell_type": "code",
   "execution_count": 15,
   "metadata": {},
   "outputs": [
    {
     "name": "stdout",
     "output_type": "stream",
     "text": [
      "{'name': 'Rahul', 'age': 33, 'Address': 'Pune'}\n",
      "{'name': 'Rahul', 'age': 33, 'Address': 'Pune'}\n"
     ]
    }
   ],
   "source": [
    "student[\"name\"]=\"Rahul\"\n",
    "print(student)\n",
    "print(student_copy)"
   ]
  },
  {
   "cell_type": "code",
   "execution_count": null,
   "metadata": {},
   "outputs": [
    {
     "name": "stdout",
     "output_type": "stream",
     "text": [
      "{'name': 'Rahul', 'age': 33, 'Address': 'Pune'}\n",
      "{'name': 'Rahul', 'age': 33, 'Address': 'Pune'}\n"
     ]
    }
   ],
   "source": [
    "## To avoid the above issue we use the copy method\n",
    "student_copy=student.copy() ## shallow copy: Basically it will allocate a different memory (it will take the variable and give the reference to the othere variable  in the memory)\n",
    "print(student)\n",
    "print(student_copy)"
   ]
  },
  {
   "cell_type": "code",
   "execution_count": 18,
   "metadata": {},
   "outputs": [
    {
     "name": "stdout",
     "output_type": "stream",
     "text": [
      "{'name': 'Abhishek', 'age': 33, 'Address': 'Pune'}\n",
      "{'name': 'Rahul', 'age': 33, 'Address': 'Pune'}\n"
     ]
    }
   ],
   "source": [
    "student[\"name\"]=\"Abhishek\"\n",
    "print(student)\n",
    "print(student_copy)"
   ]
  },
  {
   "cell_type": "code",
   "execution_count": 20,
   "metadata": {},
   "outputs": [
    {
     "name": "stdout",
     "output_type": "stream",
     "text": [
      "name\n",
      "age\n",
      "Address\n"
     ]
    }
   ],
   "source": [
    "## Iterating over dictionaries\n",
    "## We can use loops to iterate over dictionaries, keys, values or items\n",
    "\n",
    "## Iterating over keys\n",
    "for keys in student.keys():\n",
    "    print(keys)\n",
    "\n"
   ]
  },
  {
   "cell_type": "code",
   "execution_count": null,
   "metadata": {},
   "outputs": [],
   "source": []
  }
 ],
 "metadata": {
  "kernelspec": {
   "display_name": "Python 3",
   "language": "python",
   "name": "python3"
  },
  "language_info": {
   "codemirror_mode": {
    "name": "ipython",
    "version": 3
   },
   "file_extension": ".py",
   "mimetype": "text/x-python",
   "name": "python",
   "nbconvert_exporter": "python",
   "pygments_lexer": "ipython3",
   "version": "3.13.2"
  }
 },
 "nbformat": 4,
 "nbformat_minor": 2
}
