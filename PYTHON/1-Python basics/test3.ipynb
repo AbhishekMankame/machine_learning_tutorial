{
 "cells": [
  {
   "cell_type": "markdown",
   "metadata": {},
   "source": [
    "### Dictionaries\n",
    "Outline\n",
    "1. Introduction to dictionaries\n",
    "2. Creating dictionaries\n",
    "3. Accessing dictionary elements\n",
    "4. Modifying dictionary elements\n",
    "5. Dictionary methods\n",
    "6. Iterating over dictionaries\n",
    "7. Nested dictionaries\n",
    "8. Dictionary comprehensions\n",
    "9. Practical examples and common erros"
   ]
  },
  {
   "cell_type": "code",
   "execution_count": null,
   "metadata": {},
   "outputs": [],
   "source": []
  },
  {
   "cell_type": "code",
   "execution_count": null,
   "metadata": {},
   "outputs": [],
   "source": []
  }
 ],
 "metadata": {
  "language_info": {
   "name": "python"
  }
 },
 "nbformat": 4,
 "nbformat_minor": 2
}
