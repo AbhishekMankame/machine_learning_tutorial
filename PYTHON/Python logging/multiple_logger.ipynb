{
 "cells": [
  {
   "cell_type": "markdown",
   "id": "6ed1c29c",
   "metadata": {},
   "source": [
    "### Logging with Multiple Loggers\n",
    "You can create multiple loggers for different parts of your application."
   ]
  },
  {
   "cell_type": "code",
   "execution_count": 1,
   "id": "2b60d124",
   "metadata": {},
   "outputs": [],
   "source": [
    "import logging\n",
    "## Create a logger for module1\n",
    "logger1 = logging.getLogger(\"module1\")\n",
    "logger1.setLevel(logging.DEBUG)\n",
    "\n",
    "## create a logger for module 2\n",
    "logger2 = logging.getLogger(\"module2\")\n",
    "logger2.setLevel(logging.WARNING)\n",
    "\n",
    "logging.basicConfig(filename='app.log',\n",
    "                    filemode='w',\n",
    "                    level=logging.DEBUG,\n",
    "                    format = '%(asctime)s-%(name)s-%(levelname)s-%(message)s',\n",
    "                    datefmt='%Y-%m-%d %H:%M:%S')\n"
   ]
  },
  {
   "cell_type": "code",
   "execution_count": 2,
   "id": "250fe382",
   "metadata": {},
   "outputs": [],
   "source": [
    "## log message with different loggers\n",
    "logger1.debug(\"This is debug message for module1\")\n",
    "logger2.warning(\"This is warning message for module2\")"
   ]
  },
  {
   "cell_type": "code",
   "execution_count": null,
   "id": "30a09c16",
   "metadata": {},
   "outputs": [],
   "source": []
  }
 ],
 "metadata": {
  "kernelspec": {
   "display_name": "Python 3",
   "language": "python",
   "name": "python3"
  },
  "language_info": {
   "codemirror_mode": {
    "name": "ipython",
    "version": 3
   },
   "file_extension": ".py",
   "mimetype": "text/x-python",
   "name": "python",
   "nbconvert_exporter": "python",
   "pygments_lexer": "ipython3",
   "version": "3.13.5"
  }
 },
 "nbformat": 4,
 "nbformat_minor": 5
}
