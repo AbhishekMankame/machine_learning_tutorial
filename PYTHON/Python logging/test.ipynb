{
 "cells": [
  {
   "cell_type": "markdown",
   "id": "0c954409",
   "metadata": {},
   "source": [
    "## Python Logging\n",
    "\n",
    "Logging is a crucial aspect of any application, providing a way to track events, errors, and operational information. Python's built-in logging module offers a flexible framework for emmitting log messages from Python programs."
   ]
  }
 ],
 "metadata": {
  "language_info": {
   "name": "python"
  }
 },
 "nbformat": 4,
 "nbformat_minor": 5
}
